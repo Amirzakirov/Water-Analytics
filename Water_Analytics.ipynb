{
 "cells": [
  {
   "cell_type": "code",
   "execution_count": 1,
   "id": "e32a023f",
   "metadata": {},
   "outputs": [],
   "source": [
    "# Импорт библииотек\n",
    "import pandas as pd\n",
    "import numpy as np\n",
    "%matplotlib inline\n",
    "import matplotlib.pyplot as plt\n",
    "import seaborn as sns\n",
    "from sklearn.model_selection import train_test_split\n",
    "from sklearn.linear_model import LinearRegression\n",
    "from sklearn import metrics\n",
    "from sklearn.metrics import r2_score"
   ]
  },
  {
   "cell_type": "code",
   "execution_count": 2,
   "id": "2adf295b",
   "metadata": {},
   "outputs": [],
   "source": [
    "df = pd.read_csv('water.csv')"
   ]
  },
  {
   "cell_type": "code",
   "execution_count": 3,
   "id": "c7ecd2d6",
   "metadata": {},
   "outputs": [
    {
     "data": {
      "text/html": [
       "<div>\n",
       "<style scoped>\n",
       "    .dataframe tbody tr th:only-of-type {\n",
       "        vertical-align: middle;\n",
       "    }\n",
       "\n",
       "    .dataframe tbody tr th {\n",
       "        vertical-align: top;\n",
       "    }\n",
       "\n",
       "    .dataframe thead th {\n",
       "        text-align: right;\n",
       "    }\n",
       "</style>\n",
       "<table border=\"1\" class=\"dataframe\">\n",
       "  <thead>\n",
       "    <tr style=\"text-align: right;\">\n",
       "      <th></th>\n",
       "      <th>Unnamed: 0</th>\n",
       "      <th>location</th>\n",
       "      <th>town</th>\n",
       "      <th>mortality</th>\n",
       "      <th>hardness</th>\n",
       "    </tr>\n",
       "  </thead>\n",
       "  <tbody>\n",
       "    <tr>\n",
       "      <th>0</th>\n",
       "      <td>1</td>\n",
       "      <td>South</td>\n",
       "      <td>Bath</td>\n",
       "      <td>1247</td>\n",
       "      <td>105</td>\n",
       "    </tr>\n",
       "    <tr>\n",
       "      <th>1</th>\n",
       "      <td>2</td>\n",
       "      <td>North</td>\n",
       "      <td>Birkenhead</td>\n",
       "      <td>1668</td>\n",
       "      <td>17</td>\n",
       "    </tr>\n",
       "    <tr>\n",
       "      <th>2</th>\n",
       "      <td>3</td>\n",
       "      <td>South</td>\n",
       "      <td>Birmingham</td>\n",
       "      <td>1466</td>\n",
       "      <td>5</td>\n",
       "    </tr>\n",
       "    <tr>\n",
       "      <th>3</th>\n",
       "      <td>4</td>\n",
       "      <td>North</td>\n",
       "      <td>Blackburn</td>\n",
       "      <td>1800</td>\n",
       "      <td>14</td>\n",
       "    </tr>\n",
       "    <tr>\n",
       "      <th>4</th>\n",
       "      <td>5</td>\n",
       "      <td>North</td>\n",
       "      <td>Blackpool</td>\n",
       "      <td>1609</td>\n",
       "      <td>18</td>\n",
       "    </tr>\n",
       "  </tbody>\n",
       "</table>\n",
       "</div>"
      ],
      "text/plain": [
       "   Unnamed: 0 location        town  mortality  hardness\n",
       "0           1    South        Bath       1247       105\n",
       "1           2    North  Birkenhead       1668        17\n",
       "2           3    South  Birmingham       1466         5\n",
       "3           4    North   Blackburn       1800        14\n",
       "4           5    North   Blackpool       1609        18"
      ]
     },
     "execution_count": 3,
     "metadata": {},
     "output_type": "execute_result"
    }
   ],
   "source": [
    "df.head()"
   ]
  },
  {
   "cell_type": "code",
   "execution_count": 4,
   "id": "38e9d6ea",
   "metadata": {},
   "outputs": [],
   "source": [
    "# Удаляем первый столбец\n",
    "df.drop(['Unnamed: 0'], axis=1, inplace=True)"
   ]
  },
  {
   "cell_type": "code",
   "execution_count": 5,
   "id": "fadb8192",
   "metadata": {},
   "outputs": [
    {
     "data": {
      "text/html": [
       "<div>\n",
       "<style scoped>\n",
       "    .dataframe tbody tr th:only-of-type {\n",
       "        vertical-align: middle;\n",
       "    }\n",
       "\n",
       "    .dataframe tbody tr th {\n",
       "        vertical-align: top;\n",
       "    }\n",
       "\n",
       "    .dataframe thead th {\n",
       "        text-align: right;\n",
       "    }\n",
       "</style>\n",
       "<table border=\"1\" class=\"dataframe\">\n",
       "  <thead>\n",
       "    <tr style=\"text-align: right;\">\n",
       "      <th></th>\n",
       "      <th>location</th>\n",
       "      <th>town</th>\n",
       "      <th>mortality</th>\n",
       "      <th>hardness</th>\n",
       "    </tr>\n",
       "  </thead>\n",
       "  <tbody>\n",
       "    <tr>\n",
       "      <th>0</th>\n",
       "      <td>South</td>\n",
       "      <td>Bath</td>\n",
       "      <td>1247</td>\n",
       "      <td>105</td>\n",
       "    </tr>\n",
       "    <tr>\n",
       "      <th>1</th>\n",
       "      <td>North</td>\n",
       "      <td>Birkenhead</td>\n",
       "      <td>1668</td>\n",
       "      <td>17</td>\n",
       "    </tr>\n",
       "    <tr>\n",
       "      <th>2</th>\n",
       "      <td>South</td>\n",
       "      <td>Birmingham</td>\n",
       "      <td>1466</td>\n",
       "      <td>5</td>\n",
       "    </tr>\n",
       "    <tr>\n",
       "      <th>3</th>\n",
       "      <td>North</td>\n",
       "      <td>Blackburn</td>\n",
       "      <td>1800</td>\n",
       "      <td>14</td>\n",
       "    </tr>\n",
       "    <tr>\n",
       "      <th>4</th>\n",
       "      <td>North</td>\n",
       "      <td>Blackpool</td>\n",
       "      <td>1609</td>\n",
       "      <td>18</td>\n",
       "    </tr>\n",
       "  </tbody>\n",
       "</table>\n",
       "</div>"
      ],
      "text/plain": [
       "  location        town  mortality  hardness\n",
       "0    South        Bath       1247       105\n",
       "1    North  Birkenhead       1668        17\n",
       "2    South  Birmingham       1466         5\n",
       "3    North   Blackburn       1800        14\n",
       "4    North   Blackpool       1609        18"
      ]
     },
     "execution_count": 5,
     "metadata": {},
     "output_type": "execute_result"
    }
   ],
   "source": [
    "df.head()"
   ]
  },
  {
   "cell_type": "code",
   "execution_count": 6,
   "id": "fa92cb4a",
   "metadata": {},
   "outputs": [
    {
     "name": "stdout",
     "output_type": "stream",
     "text": [
      "<class 'pandas.core.frame.DataFrame'>\n",
      "RangeIndex: 61 entries, 0 to 60\n",
      "Data columns (total 4 columns):\n",
      " #   Column     Non-Null Count  Dtype \n",
      "---  ------     --------------  ----- \n",
      " 0   location   61 non-null     object\n",
      " 1   town       61 non-null     object\n",
      " 2   mortality  61 non-null     int64 \n",
      " 3   hardness   61 non-null     int64 \n",
      "dtypes: int64(2), object(2)\n",
      "memory usage: 2.0+ KB\n"
     ]
    }
   ],
   "source": [
    "# Проверяем типы данных в столбцах\n",
    "df.info()"
   ]
  },
  {
   "cell_type": "code",
   "execution_count": 7,
   "id": "c0d053ab",
   "metadata": {},
   "outputs": [
    {
     "data": {
      "text/plain": [
       "location     0\n",
       "town         0\n",
       "mortality    0\n",
       "hardness     0\n",
       "dtype: int64"
      ]
     },
     "execution_count": 7,
     "metadata": {},
     "output_type": "execute_result"
    }
   ],
   "source": [
    "# Проверяем пропуски\n",
    "df.isna().sum()"
   ]
  },
  {
   "cell_type": "code",
   "execution_count": 8,
   "id": "53535c03",
   "metadata": {},
   "outputs": [
    {
     "data": {
      "text/plain": [
       "False    61\n",
       "dtype: int64"
      ]
     },
     "execution_count": 8,
     "metadata": {},
     "output_type": "execute_result"
    }
   ],
   "source": [
    "# Проверяем дублирующиейся строки\n",
    "df.duplicated().value_counts()"
   ]
  },
  {
   "cell_type": "code",
   "execution_count": 9,
   "id": "e91a9d2c",
   "metadata": {},
   "outputs": [
    {
     "data": {
      "text/plain": [
       "<AxesSubplot:xlabel='hardness', ylabel='mortality'>"
      ]
     },
     "execution_count": 9,
     "metadata": {},
     "output_type": "execute_result"
    },
    {
     "data": {
      "image/png": "[encoded data removed]",
      "text/plain": [
       "<Figure size 720x576 with 1 Axes>"
      ]
     },
     "metadata": {
      "needs_background": "light"
     },
     "output_type": "display_data"
    }
   ],
   "source": [
    "# Строим точечный график\n",
    "df.plot.scatter(x='hardness', y='mortality', c='DarkBlue', figsize=(10, 8))"
   ]
  },
  {
   "cell_type": "code",
   "execution_count": 10,
   "id": "d4e1a5fa",
   "metadata": {},
   "outputs": [],
   "source": [
    "# Видно, что смерность уменьшается при увеличении концентрации кальция в питьевой воде\n",
    "# Коэф-нт корреляции должен быть отрицательным"
   ]
  },
  {
   "cell_type": "code",
   "execution_count": 11,
   "id": "59efbf51",
   "metadata": {},
   "outputs": [
    {
     "data": {
      "text/plain": [
       "<AxesSubplot:>"
      ]
     },
     "execution_count": 11,
     "metadata": {},
     "output_type": "execute_result"
    },
    {
     "data": {
      "image/png": "[encoded data removed]",
      "text/plain": [
       "<Figure size 288x288 with 2 Axes>"
      ]
     },
     "metadata": {
      "needs_background": "light"
     },
     "output_type": "display_data"
    }
   ],
   "source": [
    "# Строим матрицу корреляций Пиросна\n",
    "correlation_matrix = df.corr(method ='pearson')\n",
    "\n",
    "plt.subplots(figsize=(4, 4))\n",
    "sns.heatmap(data=correlation_matrix, annot=True, cmap='Greens')"
   ]
  },
  {
   "cell_type": "code",
   "execution_count": 12,
   "id": "e3b7aa4d",
   "metadata": {},
   "outputs": [
    {
     "data": {
      "text/plain": [
       "<AxesSubplot:>"
      ]
     },
     "execution_count": 12,
     "metadata": {},
     "output_type": "execute_result"
    },
    {
     "data": {
      "image/png": "[encoded data removed]",
      "text/plain": [
       "<Figure size 288x288 with 2 Axes>"
      ]
     },
     "metadata": {
      "needs_background": "light"
     },
     "output_type": "display_data"
    }
   ],
   "source": [
    "# Строим матрицу корреляций Спирмена\n",
    "correlation_matrix = df.corr(method ='spearman')\n",
    "\n",
    "plt.subplots(figsize=(4, 4))\n",
    "sns.heatmap(data=correlation_matrix, annot=True, cmap='Blues')"
   ]
  },
  {
   "cell_type": "code",
   "execution_count": 13,
   "id": "3a787197",
   "metadata": {},
   "outputs": [],
   "source": [
    "# Видим, что корреляция есть и она отрицательная, то есть наше предположение верное"
   ]
  },
  {
   "cell_type": "code",
   "execution_count": 14,
   "id": "7a48b9b2",
   "metadata": {},
   "outputs": [],
   "source": [
    "# Разделяем данные на тестовую и обучающую выборки\n",
    "X = df[['hardness']]\n",
    "y = df[['mortality']]\n",
    "\n",
    "X_train, X_test, y_train, y_test = train_test_split(X, y, test_size=0.25, random_state=0)"
   ]
  },
  {
   "cell_type": "code",
   "execution_count": 15,
   "id": "705a03e4",
   "metadata": {},
   "outputs": [
    {
     "data": {
      "text/plain": [
       "LinearRegression()"
      ]
     },
     "execution_count": 15,
     "metadata": {},
     "output_type": "execute_result"
    }
   ],
   "source": [
    "# Строим модель\n",
    "model = LinearRegression()\n",
    "model.fit(X_train, y_train)"
   ]
  },
  {
   "cell_type": "code",
   "execution_count": 16,
   "id": "fe0ccea6",
   "metadata": {},
   "outputs": [],
   "source": [
    "# Делаем предсказания\n",
    "pred_train = model.predict(X_train)\n",
    "pred_test = model.predict(X_test)"
   ]
  },
  {
   "cell_type": "code",
   "execution_count": 17,
   "id": "d5bcd06b",
   "metadata": {},
   "outputs": [
    {
     "name": "stdout",
     "output_type": "stream",
     "text": [
      "Коэф-нт: [-3.1580581]\n",
      "Остаточный член: [1682.15072384]\n"
     ]
    }
   ],
   "source": [
    "print(f'Коэф-нт: {model.coef_[0]}')\n",
    "print(f'Остаточный член: {model.intercept_}')"
   ]
  },
  {
   "cell_type": "code",
   "execution_count": 18,
   "id": "2f369db8",
   "metadata": {},
   "outputs": [
    {
     "data": {
      "text/plain": [
       "Text(0, 0.5, 'Смертность')"
      ]
     },
     "execution_count": 18,
     "metadata": {},
     "output_type": "execute_result"
    },
    {
     "data": {
      "image/png": "[encoded data removed]",
      "text/plain": [
       "<Figure size 720x576 with 1 Axes>"
      ]
     },
     "metadata": {
      "needs_background": "light"
     },
     "output_type": "display_data"
    }
   ],
   "source": [
    "# Нарисуем на графике полученную прямую\n",
    "plt.subplots(figsize=(10, 8))\n",
    "plt.scatter(X, y, c='DarkBlue')\n",
    "plt.plot(X, model.predict(X), color='red', linewidth=2)\n",
    "plt.xlabel('Концентрация кальция в питьевой воде')\n",
    "plt.ylabel('Смертность')"
   ]
  },
  {
   "cell_type": "code",
   "execution_count": 19,
   "id": "4aed907b",
   "metadata": {},
   "outputs": [
    {
     "name": "stdout",
     "output_type": "stream",
     "text": [
      "Коэф-нт детерминации train: 0.3886432875455488\n",
      "Коэф-нт детерминации test: 0.5481523380478392\n"
     ]
    }
   ],
   "source": [
    "# Вычислим коэ-нт детерминации\n",
    "print(f'Коэф-нт детерминации train: {r2_score(y_train, pred_train)}')\n",
    "print(f'Коэф-нт детерминации test: {r2_score(y_test, pred_test)}')"
   ]
  },
  {
   "cell_type": "code",
   "execution_count": 20,
   "id": "b21d549e",
   "metadata": {},
   "outputs": [
    {
     "data": {
      "text/plain": [
       "<matplotlib.collections.LineCollection at 0x2e551c0ddf0>"
      ]
     },
     "execution_count": 20,
     "metadata": {},
     "output_type": "execute_result"
    },
    {
     "data": {
      "image/png": "[encoded data removed]",
      "text/plain": [
       "<Figure size 720x720 with 1 Axes>"
      ]
     },
     "metadata": {
      "needs_background": "light"
     },
     "output_type": "display_data"
    }
   ],
   "source": [
    "# Нарисуем график остатков\n",
    "plt.subplots(figsize=(10, 10))\n",
    "plt.scatter(pred_train,  pred_train - y_train, c='blue', label='Train data')\n",
    "plt.scatter(pred_test,  pred_test - y_test, c='orange', label='Test data')\n",
    "plt.xlabel('Предсказанные значения')\n",
    "plt.ylabel('Остатки')\n",
    "plt.legend()\n",
    "plt.hlines(y=0, xmin=1200, xmax=1700, lw=1, color='red')"
   ]
  },
  {
   "cell_type": "code",
   "execution_count": 21,
   "id": "6dcbb1fc",
   "metadata": {},
   "outputs": [],
   "source": [
    "# Остатки распределены по обе стороны от горизонтальной оси, значит наша модель подогнана к нашим данным хорошо"
   ]
  },
  {
   "cell_type": "code",
   "execution_count": 22,
   "id": "ba48b944",
   "metadata": {},
   "outputs": [
    {
     "data": {
      "text/plain": [
       "North    35\n",
       "South    26\n",
       "Name: location, dtype: int64"
      ]
     },
     "execution_count": 22,
     "metadata": {},
     "output_type": "execute_result"
    }
   ],
   "source": [
    "df['location'].value_counts()"
   ]
  },
  {
   "cell_type": "code",
   "execution_count": 23,
   "id": "b506bf98",
   "metadata": {},
   "outputs": [],
   "source": [
    "# Разделяем данные на 2 группы\n",
    "df_south = df[df['location'] == 'South']\n",
    "df_north = df[df['location'] == 'North']"
   ]
  },
  {
   "cell_type": "code",
   "execution_count": 24,
   "id": "4a6f64c3",
   "metadata": {},
   "outputs": [
    {
     "data": {
      "text/plain": [
       "<AxesSubplot:xlabel='hardness', ylabel='mortality'>"
      ]
     },
     "execution_count": 24,
     "metadata": {},
     "output_type": "execute_result"
    },
    {
     "data": {
      "image/png": "[encoded data removed]",
      "text/plain": [
       "<Figure size 720x576 with 1 Axes>"
      ]
     },
     "metadata": {
      "needs_background": "light"
     },
     "output_type": "display_data"
    }
   ],
   "source": [
    "df_south.plot.scatter(x='hardness', y='mortality', c='DarkBlue', figsize=(10, 8))"
   ]
  },
  {
   "cell_type": "code",
   "execution_count": 25,
   "id": "2fc9c7af",
   "metadata": {},
   "outputs": [],
   "source": [
    "# В южным регионах зависимость также прослеживается"
   ]
  },
  {
   "cell_type": "code",
   "execution_count": 26,
   "id": "9c2d6776",
   "metadata": {},
   "outputs": [
    {
     "data": {
      "text/plain": [
       "<AxesSubplot:>"
      ]
     },
     "execution_count": 26,
     "metadata": {},
     "output_type": "execute_result"
    },
    {
     "data": {
      "image/png": "[encoded data removed]",
      "text/plain": [
       "<Figure size 288x288 with 2 Axes>"
      ]
     },
     "metadata": {
      "needs_background": "light"
     },
     "output_type": "display_data"
    }
   ],
   "source": [
    "correlation_matrix_south = df_south.corr(method ='pearson')\n",
    "\n",
    "plt.subplots(figsize=(4, 4))\n",
    "sns.heatmap(data=correlation_matrix_south, annot=True, cmap='Greens')"
   ]
  },
  {
   "cell_type": "code",
   "execution_count": 27,
   "id": "9f093a90",
   "metadata": {},
   "outputs": [
    {
     "data": {
      "text/plain": [
       "<AxesSubplot:>"
      ]
     },
     "execution_count": 27,
     "metadata": {},
     "output_type": "execute_result"
    },
    {
     "data": {
      "image/png": "[encoded data removed]",
      "text/plain": [
       "<Figure size 288x288 with 2 Axes>"
      ]
     },
     "metadata": {
      "needs_background": "light"
     },
     "output_type": "display_data"
    }
   ],
   "source": [
    "correlation_matrix_south = df_south.corr(method ='spearman')\n",
    "\n",
    "plt.subplots(figsize=(4, 4))\n",
    "sns.heatmap(data=correlation_matrix_south, annot=True, cmap='Blues')"
   ]
  },
  {
   "cell_type": "code",
   "execution_count": 28,
   "id": "5df690cf",
   "metadata": {},
   "outputs": [
    {
     "name": "stdout",
     "output_type": "stream",
     "text": [
      "Коэф-нт: [-2.22339177]\n",
      "Остаточный член: [1529.91904905]\n"
     ]
    }
   ],
   "source": [
    "X = df_south[['hardness']]\n",
    "y = df_south[['mortality']]\n",
    "\n",
    "X_train, X_test, y_train, y_test = train_test_split(X, y, test_size=0.25, random_state=0)\n",
    "\n",
    "model = LinearRegression()\n",
    "model.fit(X_train, y_train)\n",
    "\n",
    "y_pred = model.predict(X_test)\n",
    "\n",
    "pred_train = model.predict(X_train)\n",
    "pred_test = model.predict(X_test)\n",
    "\n",
    "print(f'Коэф-нт: {model.coef_[0]}')\n",
    "print(f'Остаточный член: {model.intercept_}')"
   ]
  },
  {
   "cell_type": "code",
   "execution_count": 29,
   "id": "019c0af9",
   "metadata": {},
   "outputs": [
    {
     "data": {
      "text/plain": [
       "Text(0, 0.5, 'Смертность')"
      ]
     },
     "execution_count": 29,
     "metadata": {},
     "output_type": "execute_result"
    },
    {
     "data": {
      "image/png": "[encoded data removed]",
      "text/plain": [
       "<Figure size 720x576 with 1 Axes>"
      ]
     },
     "metadata": {
      "needs_background": "light"
     },
     "output_type": "display_data"
    }
   ],
   "source": [
    "plt.subplots(figsize=(10, 8))\n",
    "plt.scatter(X, y, c='DarkBlue')\n",
    "plt.plot(X, model.predict(X), color='red', linewidth=2)\n",
    "plt.xlabel('Концентрация кальция в питьевой воде')\n",
    "plt.ylabel('Смертность')"
   ]
  },
  {
   "cell_type": "code",
   "execution_count": 30,
   "id": "cef79bff",
   "metadata": {},
   "outputs": [
    {
     "name": "stdout",
     "output_type": "stream",
     "text": [
      "Коэф-нт детерминации train: 0.3916649809331004\n",
      "Коэф-нт детерминации test: 0.20027428278510373\n"
     ]
    }
   ],
   "source": [
    "print(f'Коэф-нт детерминации train: {r2_score(y_train, pred_train)}')\n",
    "print(f'Коэф-нт детерминации test: {r2_score(y_test, pred_test)}')"
   ]
  },
  {
   "cell_type": "code",
   "execution_count": 31,
   "id": "0323db47",
   "metadata": {},
   "outputs": [
    {
     "data": {
      "text/plain": [
       "<matplotlib.collections.LineCollection at 0x2e552463730>"
      ]
     },
     "execution_count": 31,
     "metadata": {},
     "output_type": "execute_result"
    },
    {
     "data": {
      "image/png": "[encoded data removed]",
      "text/plain": [
       "<Figure size 720x720 with 1 Axes>"
      ]
     },
     "metadata": {
      "needs_background": "light"
     },
     "output_type": "display_data"
    }
   ],
   "source": [
    "plt.subplots(figsize=(10, 10))\n",
    "plt.scatter(pred_train,  pred_train - y_train, c='blue', label='Train data')\n",
    "plt.scatter(pred_test,  pred_test - y_test, c='orange', label='Test data')\n",
    "plt.xlabel('Предсказанные значения')\n",
    "plt.ylabel('Остатки')\n",
    "plt.legend()\n",
    "plt.hlines(y=0, xmin=1200, xmax=1600, lw=1, color='red')"
   ]
  },
  {
   "cell_type": "code",
   "execution_count": 32,
   "id": "40994c7c",
   "metadata": {},
   "outputs": [
    {
     "data": {
      "text/plain": [
       "<AxesSubplot:xlabel='hardness', ylabel='mortality'>"
      ]
     },
     "execution_count": 32,
     "metadata": {},
     "output_type": "execute_result"
    },
    {
     "data": {
      "image/png": "[encoded data removed]",
      "text/plain": [
       "<Figure size 720x576 with 1 Axes>"
      ]
     },
     "metadata": {
      "needs_background": "light"
     },
     "output_type": "display_data"
    }
   ],
   "source": [
    "df_north.plot.scatter(x='hardness', y='mortality', c='DarkBlue', figsize=(10, 8))"
   ]
  },
  {
   "cell_type": "code",
   "execution_count": 33,
   "id": "5eb45306",
   "metadata": {},
   "outputs": [],
   "source": [
    "# На севере зависимость прослеживается хуже"
   ]
  },
  {
   "cell_type": "code",
   "execution_count": 34,
   "id": "c45c3ac9",
   "metadata": {},
   "outputs": [
    {
     "data": {
      "text/plain": [
       "<AxesSubplot:>"
      ]
     },
     "execution_count": 34,
     "metadata": {},
     "output_type": "execute_result"
    },
    {
     "data": {
      "image/png": "[encoded data removed]",
      "text/plain": [
       "<Figure size 288x288 with 2 Axes>"
      ]
     },
     "metadata": {
      "needs_background": "light"
     },
     "output_type": "display_data"
    }
   ],
   "source": [
    "correlation_matrix_north = df_north.corr(method ='pearson')\n",
    "\n",
    "plt.subplots(figsize=(4, 4))\n",
    "sns.heatmap(data=correlation_matrix_north, annot=True, cmap='Greens')"
   ]
  },
  {
   "cell_type": "code",
   "execution_count": 35,
   "id": "bb0f02b3",
   "metadata": {},
   "outputs": [
    {
     "data": {
      "text/plain": [
       "<AxesSubplot:>"
      ]
     },
     "execution_count": 35,
     "metadata": {},
     "output_type": "execute_result"
    },
    {
     "data": {
      "image/png": "[encoded data removed]",
      "text/plain": [
       "<Figure size 288x288 with 2 Axes>"
      ]
     },
     "metadata": {
      "needs_background": "light"
     },
     "output_type": "display_data"
    }
   ],
   "source": [
    "correlation_matrix_north = df_north.corr(method ='spearman')\n",
    "\n",
    "plt.subplots(figsize=(4, 4))\n",
    "sns.heatmap(data=correlation_matrix_north, annot=True, cmap='Blues')"
   ]
  },
  {
   "cell_type": "code",
   "execution_count": 36,
   "id": "2ac9917e",
   "metadata": {},
   "outputs": [
    {
     "name": "stdout",
     "output_type": "stream",
     "text": [
      "Коэф-нт: [-2.04436826]\n",
      "Остаточный член: [1696.38342479]\n"
     ]
    }
   ],
   "source": [
    "X = df_north[['hardness']]\n",
    "y = df_north[['mortality']]\n",
    "\n",
    "X_train, X_test, y_train, y_test = train_test_split(X, y, test_size=0.25, random_state=0)\n",
    "\n",
    "model = LinearRegression()\n",
    "model.fit(X_train, y_train)\n",
    "\n",
    "y_pred = model.predict(X_test)\n",
    "\n",
    "pred_train = model.predict(X_train)\n",
    "pred_test = model.predict(X_test)\n",
    "\n",
    "print(f'Коэф-нт: {model.coef_[0]}')\n",
    "print(f'Остаточный член: {model.intercept_}')"
   ]
  },
  {
   "cell_type": "code",
   "execution_count": 44,
   "id": "1a60c472",
   "metadata": {},
   "outputs": [
    {
     "data": {
      "text/plain": [
       "Text(0, 0.5, 'Смертность')"
      ]
     },
     "execution_count": 44,
     "metadata": {},
     "output_type": "execute_result"
    },
    {
     "data": {
      "image/png": "[encoded data removed]",
      "text/plain": [
       "<Figure size 720x576 with 1 Axes>"
      ]
     },
     "metadata": {
      "needs_background": "light"
     },
     "output_type": "display_data"
    }
   ],
   "source": [
    "plt.subplots(figsize=(10, 8))\n",
    "plt.scatter(X, y, c='DarkBlue')\n",
    "plt.plot(X, model.predict(X), color='red', linewidth=2)\n",
    "plt.xlabel('Концентрация кальция в питьевой воде')\n",
    "plt.ylabel('Смертность')"
   ]
  },
  {
   "cell_type": "code",
   "execution_count": 45,
   "id": "a32283d6",
   "metadata": {},
   "outputs": [
    {
     "name": "stdout",
     "output_type": "stream",
     "text": [
      "Коэф-нт детерминации train: 0.11873858701366402\n",
      "Коэф-нт детерминации test: 0.15360378366431915\n"
     ]
    }
   ],
   "source": [
    "print(f'Коэф-нт детерминации train: {r2_score(y_train, pred_train)}')\n",
    "print(f'Коэф-нт детерминации test: {r2_score(y_test, pred_test)}')"
   ]
  },
  {
   "cell_type": "code",
   "execution_count": 46,
   "id": "66ba474d",
   "metadata": {},
   "outputs": [
    {
     "data": {
      "text/plain": [
       "<matplotlib.collections.LineCollection at 0x2e55427eca0>"
      ]
     },
     "execution_count": 46,
     "metadata": {},
     "output_type": "execute_result"
    },
    {
     "data": {
      "image/png": "[encoded data removed]",
      "text/plain": [
       "<Figure size 720x720 with 1 Axes>"
      ]
     },
     "metadata": {
      "needs_background": "light"
     },
     "output_type": "display_data"
    }
   ],
   "source": [
    "plt.subplots(figsize=(10, 10))\n",
    "plt.scatter(pred_train,  pred_train - y_train, c='blue', label='Train data')\n",
    "plt.scatter(pred_test,  pred_test - y_test, c='orange', label='Test data')\n",
    "plt.xlabel('Предсказанные значения')\n",
    "plt.ylabel('Остатки')\n",
    "plt.legend()\n",
    "plt.hlines(y=0, xmin=1500, xmax=1700, lw=1, color='red')"
   ]
  },
  {
   "cell_type": "code",
   "execution_count": 40,
   "id": "d11d95a5",
   "metadata": {},
   "outputs": [],
   "source": [
    "# В южных регионах зависимость между смерностью и концентрацией кальция в питьевой воде сильнее, чем в северных регионах"
   ]
  }
 ],
 "metadata": {
  "kernelspec": {
   "display_name": "Python 3 (ipykernel)",
   "language": "python",
   "name": "python3"
  },
  "language_info": {
   "codemirror_mode": {
    "name": "ipython",
    "version": 3
   },
   "file_extension": ".py",
   "mimetype": "text/x-python",
   "name": "python",
   "nbconvert_exporter": "python",
   "pygments_lexer": "ipython3",
   "version": "3.9.7"
  }
 },
 "nbformat": 4,
 "nbformat_minor": 5
}
